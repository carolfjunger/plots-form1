{
 "cells": [
  {
   "cell_type": "code",
   "execution_count": 45,
   "metadata": {},
   "outputs": [],
   "source": [
    "import pandas as pd\n",
    "import numpy as np\n",
    "import itertools\n",
    "import matplotlib.pyplot as plt\n",
    "import plotly.tools as tls\n",
    "import plotly.graph_objects as go\n",
    "\n",
    "np.random.seed(1234)"
   ]
  },
  {
   "cell_type": "code",
   "execution_count": 46,
   "metadata": {},
   "outputs": [],
   "source": [
    "# months = [\"Janeiro\", \"Fevereiro\", \"Março\", \"Abril\", \"Maio\", \"Junho\"]\n",
    "months = np.arange(1, 7)\n",
    "stars = np.arange(1,6)\n",
    "genre = [\"Drama\", \"Ação\", \"Terror\"]\n",
    "        #  \"Comédia\", \"Romance\"]"
   ]
  },
  {
   "cell_type": "code",
   "execution_count": 47,
   "metadata": {},
   "outputs": [],
   "source": [
    "combinations = list(itertools.product(months, stars, genre))\n",
    "\n",
    "df = pd.DataFrame(combinations, columns=[\"months\", \"stars\", \"genre\"])"
   ]
  },
  {
   "cell_type": "code",
   "execution_count": 89,
   "metadata": {},
   "outputs": [],
   "source": [
    "df[\"users\"] =  np.random.uniform(5, 60, size=df.shape[0])\n",
    "df[\"users\"] = df[\"users\"].apply(lambda x : round(x))"
   ]
  },
  {
   "cell_type": "code",
   "execution_count": 90,
   "metadata": {},
   "outputs": [],
   "source": [
    "genre_color = {\n",
    "  \"Drama\": \"#ff8000\",\n",
    "  \"Ação\": \"#00e054\",\n",
    "  \"Terror\": \"#40bcf4\"\n",
    "}"
   ]
  },
  {
   "cell_type": "code",
   "execution_count": 104,
   "metadata": {},
   "outputs": [
    {
     "name": "stdout",
     "output_type": "stream",
     "text": [
      "months                                                    6\n",
      "stars                                                    45\n",
      "genre     DramaAçãoTerrorDramaAçãoTerrorDramaAçãoTerrorD...\n",
      "users                                                   465\n",
      "Name: 5, dtype: object\n"
     ]
    },
    {
     "data": {
      "application/vnd.plotly.v1+json": {
       "config": {
        "plotlyServerURL": "https://plot.ly"
       },
       "data": [
        {
         "base": [
          0,
          0,
          0,
          0,
          0,
          0
         ],
         "hoverinfo": "x+y+name",
         "marker": {
          "color": "#ff8000"
         },
         "name": "Drama",
         "showlegend": true,
         "type": "bar",
         "width": 0.15,
         "x": [
          -0.3,
          0.7,
          1.7,
          2.7,
          3.7,
          4.7
         ],
         "y": {
          "bdata": "KQYZFzkO",
          "dtype": "i1"
         }
        },
        {
         "base": [
          41,
          6,
          25,
          23,
          57,
          14
         ],
         "hoverinfo": "x+y+name",
         "marker": {
          "color": "#00e054"
         },
         "name": "Ação",
         "showlegend": true,
         "type": "bar",
         "width": 0.15,
         "x": [
          -0.3,
          0.7,
          1.7,
          2.7,
          3.7,
          4.7
         ],
         "y": {
          "bdata": "JBgnKBsP",
          "dtype": "i1"
         }
        },
        {
         "base": [
          77,
          30,
          64,
          63,
          84,
          29
         ],
         "hoverinfo": "x+y+name",
         "marker": {
          "color": "#40bcf4"
         },
         "name": "Terror",
         "showlegend": true,
         "type": "bar",
         "width": 0.15,
         "x": [
          -0.3,
          0.7,
          1.7,
          2.7,
          3.7,
          4.7
         ],
         "y": {
          "bdata": "JBscOR4L",
          "dtype": "i1"
         }
        },
        {
         "base": [
          0,
          0,
          0,
          0,
          0,
          0
         ],
         "hoverinfo": "x+y+name",
         "marker": {
          "color": "#ff8000"
         },
         "name": "Drama",
         "showlegend": false,
         "type": "bar",
         "width": 0.15,
         "x": [
          -0.15,
          0.85,
          1.85,
          2.85,
          3.85,
          4.85
         ],
         "y": {
          "bdata": "KR8GETA3",
          "dtype": "i1"
         }
        },
        {
         "base": [
          41,
          31,
          6,
          17,
          48,
          55
         ],
         "hoverinfo": "x+y+name",
         "marker": {
          "color": "#00e054"
         },
         "name": "Ação",
         "showlegend": false,
         "type": "bar",
         "width": 0.15,
         "x": [
          -0.15,
          0.85,
          1.85,
          2.85,
          3.85,
          4.85
         ],
         "y": {
          "bdata": "GSkcNyUl",
          "dtype": "i1"
         }
        },
        {
         "base": [
          66,
          72,
          34,
          72,
          85,
          92
         ],
         "hoverinfo": "x+y+name",
         "marker": {
          "color": "#40bcf4"
         },
         "name": "Terror",
         "showlegend": false,
         "type": "bar",
         "width": 0.15,
         "x": [
          -0.15,
          0.85,
          1.85,
          2.85,
          3.85,
          4.85
         ],
         "y": {
          "bdata": "OTwRIjU2",
          "dtype": "i1"
         }
        },
        {
         "base": [
          0,
          0,
          0,
          0,
          0,
          0
         ],
         "hoverinfo": "x+y+name",
         "marker": {
          "color": "#ff8000"
         },
         "name": "Drama",
         "showlegend": false,
         "type": "bar",
         "width": 0.15,
         "x": [
          0,
          1,
          2,
          3,
          4,
          5
         ],
         "y": {
          "bdata": "ECEiLxkd",
          "dtype": "i1"
         }
        },
        {
         "base": [
          16,
          33,
          34,
          47,
          25,
          29
         ],
         "hoverinfo": "x+y+name",
         "marker": {
          "color": "#00e054"
         },
         "name": "Ação",
         "showlegend": false,
         "type": "bar",
         "width": 0.15,
         "x": [
          0,
          1,
          2,
          3,
          4,
          5
         ],
         "y": {
          "bdata": "NBswIh0J",
          "dtype": "i1"
         }
        },
        {
         "base": [
          68,
          60,
          82,
          81,
          54,
          38
         ],
         "hoverinfo": "x+y+name",
         "marker": {
          "color": "#40bcf4"
         },
         "name": "Terror",
         "showlegend": false,
         "type": "bar",
         "width": 0.15,
         "x": [
          0,
          1,
          2,
          3,
          4,
          5
         ],
         "y": {
          "bdata": "OggiJjMR",
          "dtype": "i1"
         }
        },
        {
         "base": [
          0,
          0,
          0,
          0,
          0,
          0
         ],
         "hoverinfo": "x+y+name",
         "marker": {
          "color": "#ff8000"
         },
         "name": "Drama",
         "showlegend": false,
         "type": "bar",
         "width": 0.15,
         "x": [
          0.15,
          1.15,
          2.15,
          3.15,
          4.15,
          5.15
         ],
         "y": {
          "bdata": "GgchGQsr",
          "dtype": "i1"
         }
        },
        {
         "base": [
          26,
          7,
          33,
          25,
          11,
          43
         ],
         "hoverinfo": "x+y+name",
         "marker": {
          "color": "#00e054"
         },
         "name": "Ação",
         "showlegend": false,
         "type": "bar",
         "width": 0.15,
         "x": [
          0.15,
          1.15,
          2.15,
          3.15,
          4.15,
          5.15
         ],
         "y": {
          "bdata": "FycJCjUg",
          "dtype": "i1"
         }
        },
        {
         "base": [
          49,
          46,
          42,
          35,
          64,
          75
         ],
         "hoverinfo": "x+y+name",
         "marker": {
          "color": "#40bcf4"
         },
         "name": "Terror",
         "showlegend": false,
         "type": "bar",
         "width": 0.15,
         "x": [
          0.15,
          1.15,
          2.15,
          3.15,
          4.15,
          5.15
         ],
         "y": {
          "bdata": "EwUbIjEh",
          "dtype": "i1"
         }
        },
        {
         "base": [
          0,
          0,
          0,
          0,
          0,
          0
         ],
         "hoverinfo": "x+y+name",
         "marker": {
          "color": "#ff8000"
         },
         "name": "Drama",
         "showlegend": false,
         "type": "bar",
         "width": 0.15,
         "x": [
          0.3,
          1.3,
          2.3,
          3.3,
          4.3,
          5.3
         ],
         "y": {
          "bdata": "KhwsLyAu",
          "dtype": "i1"
         }
        },
        {
         "base": [
          42,
          28,
          44,
          47,
          32,
          46
         ],
         "hoverinfo": "x+y+name",
         "marker": {
          "color": "#00e054"
         },
         "name": "Ação",
         "showlegend": false,
         "type": "bar",
         "width": 0.15,
         "x": [
          0.3,
          1.3,
          2.3,
          3.3,
          4.3,
          5.3
         ],
         "y": {
          "bdata": "DwU4Bhs1",
          "dtype": "i1"
         }
        },
        {
         "base": [
          57,
          33,
          100,
          53,
          59,
          99
         ],
         "hoverinfo": "x+y+name",
         "marker": {
          "color": "#40bcf4"
         },
         "name": "Terror",
         "showlegend": false,
         "type": "bar",
         "width": 0.15,
         "x": [
          0.3,
          1.3,
          2.3,
          3.3,
          4.3,
          5.3
         ],
         "y": {
          "bdata": "GhwjBwcR",
          "dtype": "i1"
         }
        },
        {
         "line": {
          "color": "red",
          "dash": "dash"
         },
         "mode": "lines",
         "name": "Linha de Tendência",
         "showlegend": false,
         "type": "scatter",
         "x": {
          "bdata": "AAECAwQF",
          "dtype": "i1"
         },
         "y": {
          "bdata": "AQJxAc8B2gEYAtEB",
          "dtype": "i2"
         }
        }
       ],
       "layout": {
        "annotations": [
         {
          "align": "center",
          "font": {
           "color": "#333333",
           "size": 18
          },
          "showarrow": false,
          "text": "1★",
          "x": -0.3,
          "y": 121
         },
         {
          "align": "center",
          "font": {
           "color": "#333333",
           "size": 18
          },
          "showarrow": false,
          "text": "1★",
          "x": 0.7,
          "y": 65
         },
         {
          "align": "center",
          "font": {
           "color": "#333333",
           "size": 18
          },
          "showarrow": false,
          "text": "1★",
          "x": 1.7,
          "y": 100
         },
         {
          "align": "center",
          "font": {
           "color": "#333333",
           "size": 18
          },
          "showarrow": false,
          "text": "1★",
          "x": 2.7,
          "y": 128
         },
         {
          "align": "center",
          "font": {
           "color": "#333333",
           "size": 18
          },
          "showarrow": false,
          "text": "1★",
          "x": 3.7,
          "y": 122
         },
         {
          "align": "center",
          "font": {
           "color": "#333333",
           "size": 18
          },
          "showarrow": false,
          "text": "1★",
          "x": 4.7,
          "y": 48
         },
         {
          "align": "center",
          "font": {
           "color": "#333333",
           "size": 18
          },
          "showarrow": false,
          "text": "2★",
          "x": -0.15,
          "y": 131
         },
         {
          "align": "center",
          "font": {
           "color": "#333333",
           "size": 18
          },
          "showarrow": false,
          "text": "2★",
          "x": 0.85,
          "y": 140
         },
         {
          "align": "center",
          "font": {
           "color": "#333333",
           "size": 18
          },
          "showarrow": false,
          "text": "2★",
          "x": 1.85,
          "y": 59
         },
         {
          "align": "center",
          "font": {
           "color": "#333333",
           "size": 18
          },
          "showarrow": false,
          "text": "2★",
          "x": 2.85,
          "y": 114
         },
         {
          "align": "center",
          "font": {
           "color": "#333333",
           "size": 18
          },
          "showarrow": false,
          "text": "2★",
          "x": 3.85,
          "y": 146
         },
         {
          "align": "center",
          "font": {
           "color": "#333333",
           "size": 18
          },
          "showarrow": false,
          "text": "2★",
          "x": 4.85,
          "y": 154
         },
         {
          "align": "center",
          "font": {
           "color": "#333333",
           "size": 18
          },
          "showarrow": false,
          "text": "3★",
          "x": 0,
          "y": 134
         },
         {
          "align": "center",
          "font": {
           "color": "#333333",
           "size": 18
          },
          "showarrow": false,
          "text": "3★",
          "x": 1,
          "y": 76
         },
         {
          "align": "center",
          "font": {
           "color": "#333333",
           "size": 18
          },
          "showarrow": false,
          "text": "3★",
          "x": 2,
          "y": 124
         },
         {
          "align": "center",
          "font": {
           "color": "#333333",
           "size": 18
          },
          "showarrow": false,
          "text": "3★",
          "x": 3,
          "y": 127
         },
         {
          "align": "center",
          "font": {
           "color": "#333333",
           "size": 18
          },
          "showarrow": false,
          "text": "3★",
          "x": 4,
          "y": 113
         },
         {
          "align": "center",
          "font": {
           "color": "#333333",
           "size": 18
          },
          "showarrow": false,
          "text": "3★",
          "x": 5,
          "y": 63
         },
         {
          "align": "center",
          "font": {
           "color": "#333333",
           "size": 18
          },
          "showarrow": false,
          "text": "4★",
          "x": 0.15,
          "y": 76
         },
         {
          "align": "center",
          "font": {
           "color": "#333333",
           "size": 18
          },
          "showarrow": false,
          "text": "4★",
          "x": 1.15,
          "y": 59
         },
         {
          "align": "center",
          "font": {
           "color": "#333333",
           "size": 18
          },
          "showarrow": false,
          "text": "4★",
          "x": 2.15,
          "y": 77
         },
         {
          "align": "center",
          "font": {
           "color": "#333333",
           "size": 18
          },
          "showarrow": false,
          "text": "4★",
          "x": 3.15,
          "y": 77
         },
         {
          "align": "center",
          "font": {
           "color": "#333333",
           "size": 18
          },
          "showarrow": false,
          "text": "4★",
          "x": 4.15,
          "y": 121
         },
         {
          "align": "center",
          "font": {
           "color": "#333333",
           "size": 18
          },
          "showarrow": false,
          "text": "4★",
          "x": 5.15,
          "y": 116
         },
         {
          "align": "center",
          "font": {
           "color": "#333333",
           "size": 18
          },
          "showarrow": false,
          "text": "5★",
          "x": 0.3,
          "y": 91
         },
         {
          "align": "center",
          "font": {
           "color": "#333333",
           "size": 18
          },
          "showarrow": false,
          "text": "5★",
          "x": 1.3,
          "y": 69
         },
         {
          "align": "center",
          "font": {
           "color": "#333333",
           "size": 18
          },
          "showarrow": false,
          "text": "5★",
          "x": 2.3,
          "y": 143
         },
         {
          "align": "center",
          "font": {
           "color": "#333333",
           "size": 18
          },
          "showarrow": false,
          "text": "5★",
          "x": 3.3,
          "y": 68
         },
         {
          "align": "center",
          "font": {
           "color": "#333333",
           "size": 18
          },
          "showarrow": false,
          "text": "5★",
          "x": 4.3,
          "y": 74
         },
         {
          "align": "center",
          "font": {
           "color": "#333333",
           "size": 18
          },
          "showarrow": false,
          "text": "5★",
          "x": 5.3,
          "y": 124
         },
         {
          "align": "center",
          "font": {
           "color": "black",
           "size": 16
          },
          "showarrow": false,
          "text": "Total de usuários ativos no mês",
          "x": 6,
          "y": 465
         }
        ],
        "barmode": "stack",
        "height": 800,
        "legend": {
         "title": {
          "text": "Gêneros de Filmes"
         }
        },
        "template": {
         "data": {
          "bar": [
           {
            "error_x": {
             "color": "#2a3f5f"
            },
            "error_y": {
             "color": "#2a3f5f"
            },
            "marker": {
             "line": {
              "color": "#E5ECF6",
              "width": 0.5
             },
             "pattern": {
              "fillmode": "overlay",
              "size": 10,
              "solidity": 0.2
             }
            },
            "type": "bar"
           }
          ],
          "barpolar": [
           {
            "marker": {
             "line": {
              "color": "#E5ECF6",
              "width": 0.5
             },
             "pattern": {
              "fillmode": "overlay",
              "size": 10,
              "solidity": 0.2
             }
            },
            "type": "barpolar"
           }
          ],
          "carpet": [
           {
            "aaxis": {
             "endlinecolor": "#2a3f5f",
             "gridcolor": "white",
             "linecolor": "white",
             "minorgridcolor": "white",
             "startlinecolor": "#2a3f5f"
            },
            "baxis": {
             "endlinecolor": "#2a3f5f",
             "gridcolor": "white",
             "linecolor": "white",
             "minorgridcolor": "white",
             "startlinecolor": "#2a3f5f"
            },
            "type": "carpet"
           }
          ],
          "choropleth": [
           {
            "colorbar": {
             "outlinewidth": 0,
             "ticks": ""
            },
            "type": "choropleth"
           }
          ],
          "contour": [
           {
            "colorbar": {
             "outlinewidth": 0,
             "ticks": ""
            },
            "colorscale": [
             [
              0,
              "#0d0887"
             ],
             [
              0.1111111111111111,
              "#46039f"
             ],
             [
              0.2222222222222222,
              "#7201a8"
             ],
             [
              0.3333333333333333,
              "#9c179e"
             ],
             [
              0.4444444444444444,
              "#bd3786"
             ],
             [
              0.5555555555555556,
              "#d8576b"
             ],
             [
              0.6666666666666666,
              "#ed7953"
             ],
             [
              0.7777777777777778,
              "#fb9f3a"
             ],
             [
              0.8888888888888888,
              "#fdca26"
             ],
             [
              1,
              "#f0f921"
             ]
            ],
            "type": "contour"
           }
          ],
          "contourcarpet": [
           {
            "colorbar": {
             "outlinewidth": 0,
             "ticks": ""
            },
            "type": "contourcarpet"
           }
          ],
          "heatmap": [
           {
            "colorbar": {
             "outlinewidth": 0,
             "ticks": ""
            },
            "colorscale": [
             [
              0,
              "#0d0887"
             ],
             [
              0.1111111111111111,
              "#46039f"
             ],
             [
              0.2222222222222222,
              "#7201a8"
             ],
             [
              0.3333333333333333,
              "#9c179e"
             ],
             [
              0.4444444444444444,
              "#bd3786"
             ],
             [
              0.5555555555555556,
              "#d8576b"
             ],
             [
              0.6666666666666666,
              "#ed7953"
             ],
             [
              0.7777777777777778,
              "#fb9f3a"
             ],
             [
              0.8888888888888888,
              "#fdca26"
             ],
             [
              1,
              "#f0f921"
             ]
            ],
            "type": "heatmap"
           }
          ],
          "histogram": [
           {
            "marker": {
             "pattern": {
              "fillmode": "overlay",
              "size": 10,
              "solidity": 0.2
             }
            },
            "type": "histogram"
           }
          ],
          "histogram2d": [
           {
            "colorbar": {
             "outlinewidth": 0,
             "ticks": ""
            },
            "colorscale": [
             [
              0,
              "#0d0887"
             ],
             [
              0.1111111111111111,
              "#46039f"
             ],
             [
              0.2222222222222222,
              "#7201a8"
             ],
             [
              0.3333333333333333,
              "#9c179e"
             ],
             [
              0.4444444444444444,
              "#bd3786"
             ],
             [
              0.5555555555555556,
              "#d8576b"
             ],
             [
              0.6666666666666666,
              "#ed7953"
             ],
             [
              0.7777777777777778,
              "#fb9f3a"
             ],
             [
              0.8888888888888888,
              "#fdca26"
             ],
             [
              1,
              "#f0f921"
             ]
            ],
            "type": "histogram2d"
           }
          ],
          "histogram2dcontour": [
           {
            "colorbar": {
             "outlinewidth": 0,
             "ticks": ""
            },
            "colorscale": [
             [
              0,
              "#0d0887"
             ],
             [
              0.1111111111111111,
              "#46039f"
             ],
             [
              0.2222222222222222,
              "#7201a8"
             ],
             [
              0.3333333333333333,
              "#9c179e"
             ],
             [
              0.4444444444444444,
              "#bd3786"
             ],
             [
              0.5555555555555556,
              "#d8576b"
             ],
             [
              0.6666666666666666,
              "#ed7953"
             ],
             [
              0.7777777777777778,
              "#fb9f3a"
             ],
             [
              0.8888888888888888,
              "#fdca26"
             ],
             [
              1,
              "#f0f921"
             ]
            ],
            "type": "histogram2dcontour"
           }
          ],
          "mesh3d": [
           {
            "colorbar": {
             "outlinewidth": 0,
             "ticks": ""
            },
            "type": "mesh3d"
           }
          ],
          "parcoords": [
           {
            "line": {
             "colorbar": {
              "outlinewidth": 0,
              "ticks": ""
             }
            },
            "type": "parcoords"
           }
          ],
          "pie": [
           {
            "automargin": true,
            "type": "pie"
           }
          ],
          "scatter": [
           {
            "fillpattern": {
             "fillmode": "overlay",
             "size": 10,
             "solidity": 0.2
            },
            "type": "scatter"
           }
          ],
          "scatter3d": [
           {
            "line": {
             "colorbar": {
              "outlinewidth": 0,
              "ticks": ""
             }
            },
            "marker": {
             "colorbar": {
              "outlinewidth": 0,
              "ticks": ""
             }
            },
            "type": "scatter3d"
           }
          ],
          "scattercarpet": [
           {
            "marker": {
             "colorbar": {
              "outlinewidth": 0,
              "ticks": ""
             }
            },
            "type": "scattercarpet"
           }
          ],
          "scattergeo": [
           {
            "marker": {
             "colorbar": {
              "outlinewidth": 0,
              "ticks": ""
             }
            },
            "type": "scattergeo"
           }
          ],
          "scattergl": [
           {
            "marker": {
             "colorbar": {
              "outlinewidth": 0,
              "ticks": ""
             }
            },
            "type": "scattergl"
           }
          ],
          "scattermap": [
           {
            "marker": {
             "colorbar": {
              "outlinewidth": 0,
              "ticks": ""
             }
            },
            "type": "scattermap"
           }
          ],
          "scattermapbox": [
           {
            "marker": {
             "colorbar": {
              "outlinewidth": 0,
              "ticks": ""
             }
            },
            "type": "scattermapbox"
           }
          ],
          "scatterpolar": [
           {
            "marker": {
             "colorbar": {
              "outlinewidth": 0,
              "ticks": ""
             }
            },
            "type": "scatterpolar"
           }
          ],
          "scatterpolargl": [
           {
            "marker": {
             "colorbar": {
              "outlinewidth": 0,
              "ticks": ""
             }
            },
            "type": "scatterpolargl"
           }
          ],
          "scatterternary": [
           {
            "marker": {
             "colorbar": {
              "outlinewidth": 0,
              "ticks": ""
             }
            },
            "type": "scatterternary"
           }
          ],
          "surface": [
           {
            "colorbar": {
             "outlinewidth": 0,
             "ticks": ""
            },
            "colorscale": [
             [
              0,
              "#0d0887"
             ],
             [
              0.1111111111111111,
              "#46039f"
             ],
             [
              0.2222222222222222,
              "#7201a8"
             ],
             [
              0.3333333333333333,
              "#9c179e"
             ],
             [
              0.4444444444444444,
              "#bd3786"
             ],
             [
              0.5555555555555556,
              "#d8576b"
             ],
             [
              0.6666666666666666,
              "#ed7953"
             ],
             [
              0.7777777777777778,
              "#fb9f3a"
             ],
             [
              0.8888888888888888,
              "#fdca26"
             ],
             [
              1,
              "#f0f921"
             ]
            ],
            "type": "surface"
           }
          ],
          "table": [
           {
            "cells": {
             "fill": {
              "color": "#EBF0F8"
             },
             "line": {
              "color": "white"
             }
            },
            "header": {
             "fill": {
              "color": "#C8D4E3"
             },
             "line": {
              "color": "white"
             }
            },
            "type": "table"
           }
          ]
         },
         "layout": {
          "annotationdefaults": {
           "arrowcolor": "#2a3f5f",
           "arrowhead": 0,
           "arrowwidth": 1
          },
          "autotypenumbers": "strict",
          "coloraxis": {
           "colorbar": {
            "outlinewidth": 0,
            "ticks": ""
           }
          },
          "colorscale": {
           "diverging": [
            [
             0,
             "#8e0152"
            ],
            [
             0.1,
             "#c51b7d"
            ],
            [
             0.2,
             "#de77ae"
            ],
            [
             0.3,
             "#f1b6da"
            ],
            [
             0.4,
             "#fde0ef"
            ],
            [
             0.5,
             "#f7f7f7"
            ],
            [
             0.6,
             "#e6f5d0"
            ],
            [
             0.7,
             "#b8e186"
            ],
            [
             0.8,
             "#7fbc41"
            ],
            [
             0.9,
             "#4d9221"
            ],
            [
             1,
             "#276419"
            ]
           ],
           "sequential": [
            [
             0,
             "#0d0887"
            ],
            [
             0.1111111111111111,
             "#46039f"
            ],
            [
             0.2222222222222222,
             "#7201a8"
            ],
            [
             0.3333333333333333,
             "#9c179e"
            ],
            [
             0.4444444444444444,
             "#bd3786"
            ],
            [
             0.5555555555555556,
             "#d8576b"
            ],
            [
             0.6666666666666666,
             "#ed7953"
            ],
            [
             0.7777777777777778,
             "#fb9f3a"
            ],
            [
             0.8888888888888888,
             "#fdca26"
            ],
            [
             1,
             "#f0f921"
            ]
           ],
           "sequentialminus": [
            [
             0,
             "#0d0887"
            ],
            [
             0.1111111111111111,
             "#46039f"
            ],
            [
             0.2222222222222222,
             "#7201a8"
            ],
            [
             0.3333333333333333,
             "#9c179e"
            ],
            [
             0.4444444444444444,
             "#bd3786"
            ],
            [
             0.5555555555555556,
             "#d8576b"
            ],
            [
             0.6666666666666666,
             "#ed7953"
            ],
            [
             0.7777777777777778,
             "#fb9f3a"
            ],
            [
             0.8888888888888888,
             "#fdca26"
            ],
            [
             1,
             "#f0f921"
            ]
           ]
          },
          "colorway": [
           "#636efa",
           "#EF553B",
           "#00cc96",
           "#ab63fa",
           "#FFA15A",
           "#19d3f3",
           "#FF6692",
           "#B6E880",
           "#FF97FF",
           "#FECB52"
          ],
          "font": {
           "color": "#2a3f5f"
          },
          "geo": {
           "bgcolor": "white",
           "lakecolor": "white",
           "landcolor": "#E5ECF6",
           "showlakes": true,
           "showland": true,
           "subunitcolor": "white"
          },
          "hoverlabel": {
           "align": "left"
          },
          "hovermode": "closest",
          "mapbox": {
           "style": "light"
          },
          "paper_bgcolor": "white",
          "plot_bgcolor": "#E5ECF6",
          "polar": {
           "angularaxis": {
            "gridcolor": "white",
            "linecolor": "white",
            "ticks": ""
           },
           "bgcolor": "#E5ECF6",
           "radialaxis": {
            "gridcolor": "white",
            "linecolor": "white",
            "ticks": ""
           }
          },
          "scene": {
           "xaxis": {
            "backgroundcolor": "#E5ECF6",
            "gridcolor": "white",
            "gridwidth": 2,
            "linecolor": "white",
            "showbackground": true,
            "ticks": "",
            "zerolinecolor": "white"
           },
           "yaxis": {
            "backgroundcolor": "#E5ECF6",
            "gridcolor": "white",
            "gridwidth": 2,
            "linecolor": "white",
            "showbackground": true,
            "ticks": "",
            "zerolinecolor": "white"
           },
           "zaxis": {
            "backgroundcolor": "#E5ECF6",
            "gridcolor": "white",
            "gridwidth": 2,
            "linecolor": "white",
            "showbackground": true,
            "ticks": "",
            "zerolinecolor": "white"
           }
          },
          "shapedefaults": {
           "line": {
            "color": "#2a3f5f"
           }
          },
          "ternary": {
           "aaxis": {
            "gridcolor": "white",
            "linecolor": "white",
            "ticks": ""
           },
           "baxis": {
            "gridcolor": "white",
            "linecolor": "white",
            "ticks": ""
           },
           "bgcolor": "#E5ECF6",
           "caxis": {
            "gridcolor": "white",
            "linecolor": "white",
            "ticks": ""
           }
          },
          "title": {
           "x": 0.05
          },
          "xaxis": {
           "automargin": true,
           "gridcolor": "white",
           "linecolor": "white",
           "ticks": "",
           "title": {
            "standoff": 15
           },
           "zerolinecolor": "white",
           "zerolinewidth": 2
          },
          "yaxis": {
           "automargin": true,
           "gridcolor": "white",
           "linecolor": "white",
           "ticks": "",
           "title": {
            "standoff": 15
           },
           "zerolinecolor": "white",
           "zerolinewidth": 2
          }
         }
        },
        "title": {
         "text": "Classificação de Filmes por Gênero e Estrela"
        },
        "xaxis": {
         "tickmode": "array",
         "ticktext": [
          "Janeiro",
          "Fevereiro",
          "Março",
          "Abril",
          "Maio",
          "Junho"
         ],
         "tickvals": {
          "bdata": "AAECAwQF",
          "dtype": "i1"
         },
         "title": {
          "text": "Mês"
         }
        },
        "yaxis": {
         "title": {
          "text": "Usuários"
         }
        }
       }
      }
     },
     "metadata": {},
     "output_type": "display_data"
    }
   ],
   "source": [
    "import plotly.graph_objects as go\n",
    "import numpy as np\n",
    "\n",
    "\n",
    "# Inicializando o gráfico\n",
    "fig = go.Figure()\n",
    "\n",
    "# Posicionamento das barras\n",
    "x = np.arange(len(df['months'].unique()))  # Garantindo que o eixo X seja numérico único\n",
    "largura = 0.15  # Largura das barras (reduzida para mais barras no gráfico)\n",
    "\n",
    "# Número total de valores únicos de 'stars'\n",
    "num_stars = len(df[\"stars\"].unique())\n",
    "\n",
    "# Encontrando a posição de 'star = 3'\n",
    "index_star_3 = np.where(df[\"stars\"].unique() == 3)[0][0]\n",
    "\n",
    "# Loop para cada valor único de 'stars'\n",
    "total_users_per_month = np.zeros(len(x))\n",
    "added_genres = set()\n",
    "\n",
    "# Configurações para as barras\n",
    "\n",
    "# Iterando pelas estrelas e gerando barras para cada gênero\n",
    "for i, star in enumerate(df[\"stars\"].unique()):\n",
    "    df_filter = df[df[\"stars\"] == star]  # Filtrando para a estrela atual\n",
    "    bottom = np.zeros(len(x))  # Reinicializando o bottom para cada 'star'\n",
    "\n",
    "    # Ajustando o deslocamento baseado no índice de 'star = 3'\n",
    "    deslocamento = (i - index_star_3) * largura  # Alinha 'star = 3' no centro\n",
    "\n",
    "    for genre in df_filter['genre'].unique():\n",
    "        # Filtrando os usuários por gênero\n",
    "        users = df_filter[df_filter['genre'] == genre].groupby('months')['users'].sum()\n",
    "\n",
    "        # Garantindo o alinhamento correto do eixo X\n",
    "        genre_x = [list(df_filter['months'].unique()).index(month) for month in users.index]\n",
    "\n",
    "        # Adicionando o deslocamento à posição de cada barra\n",
    "        genre_x_com_deslocamento = [x_val + deslocamento for x_val in genre_x]\n",
    "        \n",
    "        show_legend = genre not in added_genres\n",
    "        added_genres.add(genre)\n",
    "\n",
    "        # Plotando a barra empilhada para o gênero\n",
    "        fig.add_trace(go.Bar(\n",
    "            x=genre_x_com_deslocamento,  # Eixo X (categorias)\n",
    "            y=users,  # Valores para cada categoria\n",
    "            name=f'{genre}',  # Nome do gênero\n",
    "            marker_color=genre_color[genre],  # Cor das barras\n",
    "            width=largura,  # Largura das barras\n",
    "            base=bottom[genre_x],  # Base de empilhamento\n",
    "            hoverinfo='x+y+name',  # Informações de hover\n",
    "            showlegend=show_legend, \n",
    "            # text=users,  # Anotações no topo da barra\n",
    "            # textposition='outside',  # Posição do texto (fora da barra, no topo)\n",
    "            # textfont=dict(size=50)\n",
    "        ))\n",
    "\n",
    "        # Atualizando o valor de 'bottom' para o próximo grupo\n",
    "        bottom[genre_x] += users\n",
    "\n",
    "        if genre == df_filter['genre'].unique()[-1]:\n",
    "            for j, val in enumerate(users):\n",
    "                fig.add_annotation(\n",
    "                    x=genre_x_com_deslocamento[j],  # Posição X da anotação\n",
    "                    y=bottom[genre_x[j]] + 8,  # Posição Y no topo da barra\n",
    "                    text=f\"{star}★\",  # Texto (valor dos usuários)\n",
    "                    showarrow=False,  # Sem seta\n",
    "                    font=dict(size=18, color='#333333'),  # Tamanho da fonte\n",
    "                    align='center'  # Centralizando o texto\n",
    "                )\n",
    "\n",
    "\n",
    "df_grouped = df.groupby(\"months\").sum().reset_index() \n",
    "trend_line = go.Scatter(\n",
    "    x=x, \n",
    "    y=df_grouped['users'], \n",
    "    mode='lines', \n",
    "    line=dict(color='red', dash='dash'),\n",
    "    name=\"Linha de Tendência\",\n",
    "    showlegend=False\n",
    ")\n",
    "fig.add_trace(trend_line)\n",
    "\n",
    "print(df_grouped.iloc[-1])\n",
    "\n",
    "fig.add_annotation(\n",
    "    x=df['months'].iloc[-1],  # Posição X (último mês)\n",
    "    y=df_grouped['users'].iloc[-1],  # Posição Y (valor correspondente na linha de tendência)\n",
    "    text=\"Total de usuários ativos no mês\",  # Texto da anotação\n",
    "    showarrow=False,  # Remover a seta\n",
    "    font=dict(size=16, color=\"black\"),  # Configuração da fonte\n",
    "    align=\"center\"  # Alinhar o texto ao centro\n",
    ")\n",
    "\n",
    "\n",
    "# Layout do gráfico\n",
    "fig.update_layout(\n",
    "    title='Classificação de Filmes por Gênero e Estrela',\n",
    "    xaxis_title='Mês',\n",
    "    yaxis_title='Usuários',\n",
    "    barmode='stack',  # Empilhamento das barras\n",
    "    xaxis={'tickmode': 'array', 'tickvals': x, 'ticktext': [\"Janeiro\", \"Fevereiro\", \"Março\", \"Abril\", \"Maio\", \"Junho\"]},\n",
    "    legend_title='Gêneros de Filmes',\n",
    "    # legend=dict(\n",
    "    #     title='Gêneros de Filmes',  # Título específico da legenda\n",
    "    #     orientation='h',  # Definindo a legenda horizontal\n",
    "    #     x=0.5,  # Posicionando a legenda\n",
    "    #     xanchor='center',  # Centralizando a legenda\n",
    "    #     y=-0.2,  # Ajustando a posição vertical da legenda\n",
    "    #     yanchor='top'  # Alinhando ao topo\n",
    "    # )\n",
    ")\n",
    "\n",
    "fig.update_layout(\n",
    "    height=800  # Altura do gráfico em pixels (ajuste conforme necessário)\n",
    ")\n",
    "\n",
    "# Exibindo o gráfico\n",
    "fig.show()\n"
   ]
  },
  {
   "cell_type": "code",
   "execution_count": null,
   "metadata": {},
   "outputs": [
    {
     "name": "stdout",
     "output_type": "stream",
     "text": [
      "[np.float64(-0.3), np.float64(0.7), np.float64(1.7), np.float64(2.7), np.float64(3.7), np.float64(4.7)]\n",
      "[np.float64(-0.3), np.float64(0.7), np.float64(1.7), np.float64(2.7), np.float64(3.7), np.float64(4.7)]\n",
      "[np.float64(-0.3), np.float64(0.7), np.float64(1.7), np.float64(2.7), np.float64(3.7), np.float64(4.7)]\n",
      "[np.float64(-0.15), np.float64(0.85), np.float64(1.85), np.float64(2.85), np.float64(3.85), np.float64(4.85)]\n",
      "[np.float64(-0.15), np.float64(0.85), np.float64(1.85), np.float64(2.85), np.float64(3.85), np.float64(4.85)]\n",
      "[np.float64(-0.15), np.float64(0.85), np.float64(1.85), np.float64(2.85), np.float64(3.85), np.float64(4.85)]\n",
      "[np.float64(0.0), np.float64(1.0), np.float64(2.0), np.float64(3.0), np.float64(4.0), np.float64(5.0)]\n",
      "[np.float64(0.0), np.float64(1.0), np.float64(2.0), np.float64(3.0), np.float64(4.0), np.float64(5.0)]\n",
      "[np.float64(0.0), np.float64(1.0), np.float64(2.0), np.float64(3.0), np.float64(4.0), np.float64(5.0)]\n",
      "[np.float64(0.15), np.float64(1.15), np.float64(2.15), np.float64(3.15), np.float64(4.15), np.float64(5.15)]\n",
      "[np.float64(0.15), np.float64(1.15), np.float64(2.15), np.float64(3.15), np.float64(4.15), np.float64(5.15)]\n",
      "[np.float64(0.15), np.float64(1.15), np.float64(2.15), np.float64(3.15), np.float64(4.15), np.float64(5.15)]\n",
      "[np.float64(0.3), np.float64(1.3), np.float64(2.3), np.float64(3.3), np.float64(4.3), np.float64(5.3)]\n",
      "[np.float64(0.3), np.float64(1.3), np.float64(2.3), np.float64(3.3), np.float64(4.3), np.float64(5.3)]\n",
      "[np.float64(0.3), np.float64(1.3), np.float64(2.3), np.float64(3.3), np.float64(4.3), np.float64(5.3)]\n"
     ]
    },
    {
     "data": {
      "application/vnd.plotly.v1+json": {
       "config": {
        "plotlyServerURL": "https://plot.ly"
       },
       "data": [
        {
         "base": [
          0,
          0,
          0,
          0,
          0,
          0
         ],
         "hoverinfo": "x+y+name",
         "marker": {
          "color": "#ff8000"
         },
         "name": "Drama",
         "type": "bar",
         "width": 0.15,
         "x": [
          -0.3,
          0.7,
          1.7,
          2.7,
          3.7,
          4.7
         ],
         "y": {
          "bdata": "rsaXDjARL0A0RuE20u5BQCYkhSWoZkpAmlx96IAqQUDaLmFhVbA0QP5y0kXBP0tA",
          "dtype": "f8"
         }
        },
        {
         "base": [
          15.533569770839076,
          35.865790233609374,
          52.80200642586742,
          34.33205896493128,
          20.68880280134804,
          54.498085716017144
         ],
         "hoverinfo": "x+y+name",
         "marker": {
          "color": "#00e054"
         },
         "name": "Ação",
         "type": "bar",
         "width": 0.15,
         "x": [
          -0.3,
          0.7,
          1.7,
          2.7,
          3.7,
          4.7
         ],
         "y": {
          "bdata": "pLK/T6WbQ0AKi5WatFVAQFXlCWJS/TxAO+O43gKIHUA5Wwriaa9DQIeEvMrj6ztA",
          "dtype": "f8"
         }
        },
        {
         "base": [
          54.74955217802983,
          68.53536432553891,
          81.79154474012978,
          41.71488241314547,
          60.05922159317315,
          82.41953029516527
         ],
         "hoverinfo": "x+y+name",
         "marker": {
          "color": "#40bcf4"
         },
         "name": "Terror",
         "type": "bar",
         "width": 0.15,
         "x": [
          -0.3,
          0.7,
          1.7,
          2.7,
          3.7,
          4.7
         ],
         "y": {
          "bdata": "IVF14TQTPUCg5JtncAcXQH2wA5Eej0hAgIh6J33wQUDWbk2Gj0s/QNo230xlPEFA",
          "dtype": "f8"
         }
        },
        {
         "base": [
          0,
          0,
          0,
          0,
          0,
          0
         ],
         "hoverinfo": "x+y+name",
         "marker": {
          "color": "#ff8000"
         },
         "name": "Drama",
         "type": "bar",
         "width": 0.15,
         "x": [
          -0.15,
          0.85,
          1.85,
          2.85,
          3.85,
          4.85
         ],
         "y": {
          "bdata": "9stmp+wYSEBT1+8Ms8BHQIBhiUl50ClA+5KhUbshN0An/TaJNoYvQJGlPeWpXRVA",
          "dtype": "f8"
         }
        },
        {
         "base": [
          48.19472210425731,
          47.50546418868057,
          12.907175348301053,
          23.131764509150326,
          15.762134826624402,
          5.341468412292117
         ],
         "hoverinfo": "x+y+name",
         "marker": {
          "color": "#00e054"
         },
         "name": "Ação",
         "type": "bar",
         "width": 0.15,
         "x": [
          -0.15,
          0.85,
          1.85,
          2.85,
          3.85,
          4.85
         ],
         "y": {
          "bdata": "r2O1mQfzR0C902hCy8VKQEIR50r/3UVAW8P/8eJUQEBlGAicBwc6QCNX/wMJiTVA",
          "dtype": "f8"
         }
        },
        {
         "base": [
          96.0933915507915,
          101.05072967366698,
          56.6415287598095,
          55.79494033034433,
          41.789594688357255,
          26.876762229658677
         ],
         "hoverinfo": "x+y+name",
         "marker": {
          "color": "#40bcf4"
         },
         "name": "Terror",
         "type": "bar",
         "width": 0.15,
         "x": [
          -0.15,
          0.85,
          1.85,
          2.85,
          3.85,
          4.85
         ],
         "y": {
          "bdata": "/B4JmBr+M0B8YjM7mBE5QKlL651A4EVA6+7cqPFOJkCq+od7KtofQGayhLN0Bz1A",
          "dtype": "f8"
         }
        },
        {
         "base": [
          0,
          0,
          0,
          0,
          0,
          0
         ],
         "hoverinfo": "x+y+name",
         "marker": {
          "color": "#ff8000"
         },
         "name": "Drama",
         "type": "bar",
         "width": 0.15,
         "x": [
          0,
          1,
          2,
          3,
          4,
          5
         ],
         "y": {
          "bdata": "nGTd4J00NEDchM6bY2xDQBEg4cSXCDFAx//7yKQyQ0CDZZSnNdc9QHebkWiHVUNA",
          "dtype": "f8"
         }
        },
        {
         "base": [
          20.205534032870318,
          38.84678981384215,
          17.033565812074873,
          38.39565384201665,
          29.84066245434725,
          38.668194838616664
         ],
         "hoverinfo": "x+y+name",
         "marker": {
          "color": "#00e054"
         },
         "name": "Ação",
         "type": "bar",
         "width": 0.15,
         "x": [
          0,
          1,
          2,
          3,
          4,
          5
         ],
         "y": {
          "bdata": "51f9HC6NSED3uhJbvEoiQMznW28R70tA61TQEkAQQkA+OrE5UIFNQFHEo0wdwEtA",
          "dtype": "f8"
         }
        },
        {
         "base": [
          69.30850379729637,
          47.99275810420586,
          72.90128538593095,
          74.52260920979587,
          88.85092323805475,
          94.16908898454818
         ],
         "hoverinfo": "x+y+name",
         "marker": {
          "color": "#40bcf4"
         },
         "name": "Terror",
         "type": "bar",
         "width": 0.15,
         "x": [
          0,
          1,
          2,
          3,
          4,
          5
         ],
         "y": {
          "bdata": "68GbEU3ZTEBKs87ACkk5QJzukYJXUT1AQ71jtPN8FUAho1j4OaInQCBr9KcvtUNA",
          "dtype": "f8"
         }
        },
        {
         "base": [
          0,
          0,
          0,
          0,
          0,
          0
         ],
         "hoverinfo": "x+y+name",
         "marker": {
          "color": "#ff8000"
         },
         "name": "Drama",
         "type": "bar",
         "width": 0.15,
         "x": [
          0.15,
          1.15,
          2.15,
          3.15,
          4.15,
          5.15
         ],
         "y": {
          "bdata": "hzPm1JCWSkBKh9pqTilMQD28CZiVgUtAtsUwJcp6Q0B8oy8exCEnQDXAOw056kVA",
          "dtype": "f8"
         }
        },
        {
         "base": [
          53.17629491081521,
          56.32270560903869,
          55.01237774348599,
          38.95929398423634,
          11.56594938594366,
          43.82986607949753
         ],
         "hoverinfo": "x+y+name",
         "marker": {
          "color": "#00e054"
         },
         "name": "Ação",
         "type": "bar",
         "width": 0.15,
         "x": [
          0.15,
          1.15,
          2.15,
          3.15,
          4.15,
          5.15
         ],
         "y": {
          "bdata": "nbd2MRGuOED5Zq6+s2lEQCpAbks6lCBALv/QWViVS0Chou7KM89GQEuj5UNReypA",
          "dtype": "f8"
         }
        },
        {
         "base": [
          77.85624475849788,
          97.14850348650046,
          63.30188499637785,
          94.12605273805983,
          57.18471747382773,
          57.070720458943526
         ],
         "hoverinfo": "x+y+name",
         "marker": {
          "color": "#40bcf4"
         },
         "name": "Terror",
         "type": "bar",
         "width": 0.15,
         "x": [
          0.15,
          1.15,
          2.15,
          3.15,
          4.15,
          5.15
         ],
         "y": {
          "bdata": "1ml8dAFHQEDiI1O/nNg6QAYcOjeGRS5AIOqrNko9SEB9HrIZnqZCQKMSiFFJBEdA",
          "dtype": "f8"
         }
        },
        {
         "base": [
          0,
          0,
          0,
          0,
          0,
          0
         ],
         "hoverinfo": "x+y+name",
         "marker": {
          "color": "#ff8000"
         },
         "name": "Drama",
         "type": "bar",
         "width": 0.15,
         "x": [
          0.3,
          1.3,
          2.3,
          3.3,
          4.3,
          5.3
         ],
         "y": {
          "bdata": "KEuDPZRLRUBZv0cDqTBIQNgAEJ8Max5AEcnQ5kDITUDt9IwJlvA+QIZbwwpKWklA",
          "dtype": "f8"
         }
        },
        {
         "base": [
          42.5904614344675,
          48.380157861741004,
          7.604540334083332,
          59.56448064035988,
          30.939789387620227,
          50.70538458384458
         ],
         "hoverinfo": "x+y+name",
         "marker": {
          "color": "#00e054"
         },
         "name": "Ação",
         "type": "bar",
         "width": 0.15,
         "x": [
          0.3,
          1.3,
          2.3,
          3.3,
          4.3,
          5.3
         ],
         "y": {
          "bdata": "pFLiGWwZRkA43zN3DW02QEvxh24pD0VA4FNI4/bdTEDk8ajwsMglQG6dCe5t7UNA",
          "dtype": "f8"
         }
        },
        {
         "base": [
          86.78907291852701,
          70.80614458102892,
          49.72299223111149,
          117.29857755876753,
          41.83176433328288,
          90.56030187614843
         ],
         "hoverinfo": "x+y+name",
         "marker": {
          "color": "#40bcf4"
         },
         "name": "Terror",
         "type": "bar",
         "width": 0.15,
         "x": [
          0.3,
          1.3,
          2.3,
          3.3,
          4.3,
          5.3
         ],
         "y": {
          "bdata": "Y+zMcCFdOUCmF58dah9CQPhDOpAo2kJA48R0cW1HSECa6h28ZZsxQGVlRzNnGz1A",
          "dtype": "f8"
         }
        }
       ],
       "layout": {
        "template": {
         "data": {
          "bar": [
           {
            "error_x": {
             "color": "#2a3f5f"
            },
            "error_y": {
             "color": "#2a3f5f"
            },
            "marker": {
             "line": {
              "color": "#E5ECF6",
              "width": 0.5
             },
             "pattern": {
              "fillmode": "overlay",
              "size": 10,
              "solidity": 0.2
             }
            },
            "type": "bar"
           }
          ],
          "barpolar": [
           {
            "marker": {
             "line": {
              "color": "#E5ECF6",
              "width": 0.5
             },
             "pattern": {
              "fillmode": "overlay",
              "size": 10,
              "solidity": 0.2
             }
            },
            "type": "barpolar"
           }
          ],
          "carpet": [
           {
            "aaxis": {
             "endlinecolor": "#2a3f5f",
             "gridcolor": "white",
             "linecolor": "white",
             "minorgridcolor": "white",
             "startlinecolor": "#2a3f5f"
            },
            "baxis": {
             "endlinecolor": "#2a3f5f",
             "gridcolor": "white",
             "linecolor": "white",
             "minorgridcolor": "white",
             "startlinecolor": "#2a3f5f"
            },
            "type": "carpet"
           }
          ],
          "choropleth": [
           {
            "colorbar": {
             "outlinewidth": 0,
             "ticks": ""
            },
            "type": "choropleth"
           }
          ],
          "contour": [
           {
            "colorbar": {
             "outlinewidth": 0,
             "ticks": ""
            },
            "colorscale": [
             [
              0,
              "#0d0887"
             ],
             [
              0.1111111111111111,
              "#46039f"
             ],
             [
              0.2222222222222222,
              "#7201a8"
             ],
             [
              0.3333333333333333,
              "#9c179e"
             ],
             [
              0.4444444444444444,
              "#bd3786"
             ],
             [
              0.5555555555555556,
              "#d8576b"
             ],
             [
              0.6666666666666666,
              "#ed7953"
             ],
             [
              0.7777777777777778,
              "#fb9f3a"
             ],
             [
              0.8888888888888888,
              "#fdca26"
             ],
             [
              1,
              "#f0f921"
             ]
            ],
            "type": "contour"
           }
          ],
          "contourcarpet": [
           {
            "colorbar": {
             "outlinewidth": 0,
             "ticks": ""
            },
            "type": "contourcarpet"
           }
          ],
          "heatmap": [
           {
            "colorbar": {
             "outlinewidth": 0,
             "ticks": ""
            },
            "colorscale": [
             [
              0,
              "#0d0887"
             ],
             [
              0.1111111111111111,
              "#46039f"
             ],
             [
              0.2222222222222222,
              "#7201a8"
             ],
             [
              0.3333333333333333,
              "#9c179e"
             ],
             [
              0.4444444444444444,
              "#bd3786"
             ],
             [
              0.5555555555555556,
              "#d8576b"
             ],
             [
              0.6666666666666666,
              "#ed7953"
             ],
             [
              0.7777777777777778,
              "#fb9f3a"
             ],
             [
              0.8888888888888888,
              "#fdca26"
             ],
             [
              1,
              "#f0f921"
             ]
            ],
            "type": "heatmap"
           }
          ],
          "histogram": [
           {
            "marker": {
             "pattern": {
              "fillmode": "overlay",
              "size": 10,
              "solidity": 0.2
             }
            },
            "type": "histogram"
           }
          ],
          "histogram2d": [
           {
            "colorbar": {
             "outlinewidth": 0,
             "ticks": ""
            },
            "colorscale": [
             [
              0,
              "#0d0887"
             ],
             [
              0.1111111111111111,
              "#46039f"
             ],
             [
              0.2222222222222222,
              "#7201a8"
             ],
             [
              0.3333333333333333,
              "#9c179e"
             ],
             [
              0.4444444444444444,
              "#bd3786"
             ],
             [
              0.5555555555555556,
              "#d8576b"
             ],
             [
              0.6666666666666666,
              "#ed7953"
             ],
             [
              0.7777777777777778,
              "#fb9f3a"
             ],
             [
              0.8888888888888888,
              "#fdca26"
             ],
             [
              1,
              "#f0f921"
             ]
            ],
            "type": "histogram2d"
           }
          ],
          "histogram2dcontour": [
           {
            "colorbar": {
             "outlinewidth": 0,
             "ticks": ""
            },
            "colorscale": [
             [
              0,
              "#0d0887"
             ],
             [
              0.1111111111111111,
              "#46039f"
             ],
             [
              0.2222222222222222,
              "#7201a8"
             ],
             [
              0.3333333333333333,
              "#9c179e"
             ],
             [
              0.4444444444444444,
              "#bd3786"
             ],
             [
              0.5555555555555556,
              "#d8576b"
             ],
             [
              0.6666666666666666,
              "#ed7953"
             ],
             [
              0.7777777777777778,
              "#fb9f3a"
             ],
             [
              0.8888888888888888,
              "#fdca26"
             ],
             [
              1,
              "#f0f921"
             ]
            ],
            "type": "histogram2dcontour"
           }
          ],
          "mesh3d": [
           {
            "colorbar": {
             "outlinewidth": 0,
             "ticks": ""
            },
            "type": "mesh3d"
           }
          ],
          "parcoords": [
           {
            "line": {
             "colorbar": {
              "outlinewidth": 0,
              "ticks": ""
             }
            },
            "type": "parcoords"
           }
          ],
          "pie": [
           {
            "automargin": true,
            "type": "pie"
           }
          ],
          "scatter": [
           {
            "fillpattern": {
             "fillmode": "overlay",
             "size": 10,
             "solidity": 0.2
            },
            "type": "scatter"
           }
          ],
          "scatter3d": [
           {
            "line": {
             "colorbar": {
              "outlinewidth": 0,
              "ticks": ""
             }
            },
            "marker": {
             "colorbar": {
              "outlinewidth": 0,
              "ticks": ""
             }
            },
            "type": "scatter3d"
           }
          ],
          "scattercarpet": [
           {
            "marker": {
             "colorbar": {
              "outlinewidth": 0,
              "ticks": ""
             }
            },
            "type": "scattercarpet"
           }
          ],
          "scattergeo": [
           {
            "marker": {
             "colorbar": {
              "outlinewidth": 0,
              "ticks": ""
             }
            },
            "type": "scattergeo"
           }
          ],
          "scattergl": [
           {
            "marker": {
             "colorbar": {
              "outlinewidth": 0,
              "ticks": ""
             }
            },
            "type": "scattergl"
           }
          ],
          "scattermap": [
           {
            "marker": {
             "colorbar": {
              "outlinewidth": 0,
              "ticks": ""
             }
            },
            "type": "scattermap"
           }
          ],
          "scattermapbox": [
           {
            "marker": {
             "colorbar": {
              "outlinewidth": 0,
              "ticks": ""
             }
            },
            "type": "scattermapbox"
           }
          ],
          "scatterpolar": [
           {
            "marker": {
             "colorbar": {
              "outlinewidth": 0,
              "ticks": ""
             }
            },
            "type": "scatterpolar"
           }
          ],
          "scatterpolargl": [
           {
            "marker": {
             "colorbar": {
              "outlinewidth": 0,
              "ticks": ""
             }
            },
            "type": "scatterpolargl"
           }
          ],
          "scatterternary": [
           {
            "marker": {
             "colorbar": {
              "outlinewidth": 0,
              "ticks": ""
             }
            },
            "type": "scatterternary"
           }
          ],
          "surface": [
           {
            "colorbar": {
             "outlinewidth": 0,
             "ticks": ""
            },
            "colorscale": [
             [
              0,
              "#0d0887"
             ],
             [
              0.1111111111111111,
              "#46039f"
             ],
             [
              0.2222222222222222,
              "#7201a8"
             ],
             [
              0.3333333333333333,
              "#9c179e"
             ],
             [
              0.4444444444444444,
              "#bd3786"
             ],
             [
              0.5555555555555556,
              "#d8576b"
             ],
             [
              0.6666666666666666,
              "#ed7953"
             ],
             [
              0.7777777777777778,
              "#fb9f3a"
             ],
             [
              0.8888888888888888,
              "#fdca26"
             ],
             [
              1,
              "#f0f921"
             ]
            ],
            "type": "surface"
           }
          ],
          "table": [
           {
            "cells": {
             "fill": {
              "color": "#EBF0F8"
             },
             "line": {
              "color": "white"
             }
            },
            "header": {
             "fill": {
              "color": "#C8D4E3"
             },
             "line": {
              "color": "white"
             }
            },
            "type": "table"
           }
          ]
         },
         "layout": {
          "annotationdefaults": {
           "arrowcolor": "#2a3f5f",
           "arrowhead": 0,
           "arrowwidth": 1
          },
          "autotypenumbers": "strict",
          "coloraxis": {
           "colorbar": {
            "outlinewidth": 0,
            "ticks": ""
           }
          },
          "colorscale": {
           "diverging": [
            [
             0,
             "#8e0152"
            ],
            [
             0.1,
             "#c51b7d"
            ],
            [
             0.2,
             "#de77ae"
            ],
            [
             0.3,
             "#f1b6da"
            ],
            [
             0.4,
             "#fde0ef"
            ],
            [
             0.5,
             "#f7f7f7"
            ],
            [
             0.6,
             "#e6f5d0"
            ],
            [
             0.7,
             "#b8e186"
            ],
            [
             0.8,
             "#7fbc41"
            ],
            [
             0.9,
             "#4d9221"
            ],
            [
             1,
             "#276419"
            ]
           ],
           "sequential": [
            [
             0,
             "#0d0887"
            ],
            [
             0.1111111111111111,
             "#46039f"
            ],
            [
             0.2222222222222222,
             "#7201a8"
            ],
            [
             0.3333333333333333,
             "#9c179e"
            ],
            [
             0.4444444444444444,
             "#bd3786"
            ],
            [
             0.5555555555555556,
             "#d8576b"
            ],
            [
             0.6666666666666666,
             "#ed7953"
            ],
            [
             0.7777777777777778,
             "#fb9f3a"
            ],
            [
             0.8888888888888888,
             "#fdca26"
            ],
            [
             1,
             "#f0f921"
            ]
           ],
           "sequentialminus": [
            [
             0,
             "#0d0887"
            ],
            [
             0.1111111111111111,
             "#46039f"
            ],
            [
             0.2222222222222222,
             "#7201a8"
            ],
            [
             0.3333333333333333,
             "#9c179e"
            ],
            [
             0.4444444444444444,
             "#bd3786"
            ],
            [
             0.5555555555555556,
             "#d8576b"
            ],
            [
             0.6666666666666666,
             "#ed7953"
            ],
            [
             0.7777777777777778,
             "#fb9f3a"
            ],
            [
             0.8888888888888888,
             "#fdca26"
            ],
            [
             1,
             "#f0f921"
            ]
           ]
          },
          "colorway": [
           "#636efa",
           "#EF553B",
           "#00cc96",
           "#ab63fa",
           "#FFA15A",
           "#19d3f3",
           "#FF6692",
           "#B6E880",
           "#FF97FF",
           "#FECB52"
          ],
          "font": {
           "color": "#2a3f5f"
          },
          "geo": {
           "bgcolor": "white",
           "lakecolor": "white",
           "landcolor": "#E5ECF6",
           "showlakes": true,
           "showland": true,
           "subunitcolor": "white"
          },
          "hoverlabel": {
           "align": "left"
          },
          "hovermode": "closest",
          "mapbox": {
           "style": "light"
          },
          "paper_bgcolor": "white",
          "plot_bgcolor": "#E5ECF6",
          "polar": {
           "angularaxis": {
            "gridcolor": "white",
            "linecolor": "white",
            "ticks": ""
           },
           "bgcolor": "#E5ECF6",
           "radialaxis": {
            "gridcolor": "white",
            "linecolor": "white",
            "ticks": ""
           }
          },
          "scene": {
           "xaxis": {
            "backgroundcolor": "#E5ECF6",
            "gridcolor": "white",
            "gridwidth": 2,
            "linecolor": "white",
            "showbackground": true,
            "ticks": "",
            "zerolinecolor": "white"
           },
           "yaxis": {
            "backgroundcolor": "#E5ECF6",
            "gridcolor": "white",
            "gridwidth": 2,
            "linecolor": "white",
            "showbackground": true,
            "ticks": "",
            "zerolinecolor": "white"
           },
           "zaxis": {
            "backgroundcolor": "#E5ECF6",
            "gridcolor": "white",
            "gridwidth": 2,
            "linecolor": "white",
            "showbackground": true,
            "ticks": "",
            "zerolinecolor": "white"
           }
          },
          "shapedefaults": {
           "line": {
            "color": "#2a3f5f"
           }
          },
          "ternary": {
           "aaxis": {
            "gridcolor": "white",
            "linecolor": "white",
            "ticks": ""
           },
           "baxis": {
            "gridcolor": "white",
            "linecolor": "white",
            "ticks": ""
           },
           "bgcolor": "#E5ECF6",
           "caxis": {
            "gridcolor": "white",
            "linecolor": "white",
            "ticks": ""
           }
          },
          "title": {
           "x": 0.05
          },
          "xaxis": {
           "automargin": true,
           "gridcolor": "white",
           "linecolor": "white",
           "ticks": "",
           "title": {
            "standoff": 15
           },
           "zerolinecolor": "white",
           "zerolinewidth": 2
          },
          "yaxis": {
           "automargin": true,
           "gridcolor": "white",
           "linecolor": "white",
           "ticks": "",
           "title": {
            "standoff": 15
           },
           "zerolinecolor": "white",
           "zerolinewidth": 2
          }
         }
        }
       }
      }
     },
     "metadata": {},
     "output_type": "display_data"
    }
   ],
   "source": [
    "# \n",
    "# plt.figure(figsize=(25, 15))\n",
    "fig = go.Figure()\n",
    "\n",
    "# Posicionamento das barras\n",
    "x = np.arange(len(df['months'].unique()))  # Garantindo que o eixo X seja numérico único\n",
    "largura = 0.15  # Largura das barras (reduzida para mais barras no gráfico)\n",
    "\n",
    "# Número total de valores únicos de 'stars'\n",
    "num_stars = len(df[\"stars\"].unique())\n",
    "\n",
    "# Encontrando a posição de 'star = 3'\n",
    "index_star_3 = np.where(df[\"stars\"].unique() == 3)[0][0]\n",
    "\n",
    "# Loop para cada valor único de 'stars'\n",
    "total_users_per_month = np.zeros(len(x))\n",
    "\n",
    "# descoc_inter = 0\n",
    "handles = []\n",
    "labels = []\n",
    "\n",
    "for i, star in enumerate(df[\"stars\"].unique()):\n",
    "    df_filter = df[df[\"stars\"] == star]  # Filtrando para a estrela atual\n",
    "    bottom = np.zeros(len(x))  # Reinicializando o bottom para cada 'star'\n",
    "\n",
    "    # Ajustando o deslocamento baseado no índice de 'star = 3'\n",
    "    deslocamento = (i - index_star_3) * largura  # Alinha 'star = 3' no centro\n",
    "    \n",
    "\n",
    "    for genre in df_filter['genre'].unique():\n",
    "        # Filtrando os usuários por gênero\n",
    "        users = df_filter[df_filter['genre'] == genre].groupby('months')['users'].sum()\n",
    "        \n",
    "        # Garantindo o alinhamento correto do eixo X\n",
    "        genre_x = [list(df_filter['months'].unique()).index(month) for month in users.index]\n",
    "        # genre_x_com_deslocamento = [x_val + deslocamento for x_val in genre_x]\n",
    "\n",
    "        # Adicionando o deslocamento à posição de cada barra\n",
    "        # genre_x_com_deslocamento = [x_val + deslocamento for x_val in genre_x]\n",
    "        genre_x_com_deslocamento = [x_val + deslocamento for x_val in genre_x]\n",
    "        # Plotando a barra empilhada para o gênero\n",
    "        # bars = \n",
    "\n",
    "        print(genre_x_com_deslocamento)\n",
    "        bars = fig.add_trace(go.Bar(\n",
    "            x=genre_x_com_deslocamento,  # Eixo X (categorias)\n",
    "            y=users,  # Valores para cada categoria\n",
    "            name=f'{genre}',  # Nome do gênero\n",
    "            marker_color=genre_color[genre],  # Cor das barras\n",
    "            width=largura,  # Largura das barras\n",
    "            base=bottom[genre_x],\n",
    "            # base=deslocamento,  # Deslocamento (começo da barra)\n",
    "            hoverinfo='x+y+name',  # Informações de hover\n",
    "        ))\n",
    "\n",
    "\n",
    "        # Atualizando o valor de 'bottom' para o próximo grupo\n",
    "        bottom[genre_x] += users\n",
    "\n",
    "        total_users_per_month[genre_x] += users\n",
    "\n",
    "        # # # Adicionando o handle e label para o gênero apenas na primeira ocorrência\n",
    "        # if i == 0:  # Só adicionar à legenda na primeira estrela\n",
    "        #     print(bars)\n",
    "        #     handles.append(bars[0])  # Selecionando a primeira barra (para o gênero)\n",
    "        #     labels.append(genre)\n",
    "        \n",
    "        if genre == df_filter['genre'].unique()[-1]:\n",
    "\n",
    "            for j, bar in enumerate(bars):\n",
    "                pass\n",
    "                # plt.text(\n",
    "                #         bar.get_x() + bar.get_width() / 2,  # Posição X (meio da barra)\n",
    "                #         bar.get_y() + users.iloc[j],  # Posição Y (no topo da barra)\n",
    "                #         f\"{star}★\",  # Texto da anotação\n",
    "                #         ha='center',  # Alinha o texto ao centro\n",
    "                #         va='bottom',  # Coloca o texto acima da barra\n",
    "                #         fontsize=20,  # Tamanho da fonte\n",
    "                #         color='black'  # Cor do texto\n",
    "                #     )\n",
    "\n",
    "\n",
    "# plt.xticks(x, [\"Janeiro\", \"Fevereiro\", \"Março\", \"Abril\", \"Maio\", \"Junho\"], fontsize=20)\n",
    "# # plt.xticks(x, df['months'].unique(), fontsize=20)\n",
    "# plt.xlabel(\"Mês\", fontsize=20)\n",
    "# plt.yticks(fontsize=20)\n",
    "# plt.ylabel(\"Usuários\", fontsize=20)\n",
    "\n",
    "# # Adicionando legenda\n",
    "# plt.legend(handles=handles, labels=labels, title=\"Gêneros\", bbox_to_anchor=(1.05, 1), loc='upper left', fontsize=20, title_fontsize=20)\n",
    "\n",
    "# df_grouped = df.groupby(\"months\").sum().reset_index()\n",
    "\n",
    "# plt.plot(x, df_grouped['users'], color='red', linestyle='--', label=\"Linha de Tendência\")\n",
    "\n",
    "# # print(df_grouped[df_grouped[\"months\"] == \"Junho\"]['users'].values[0])\n",
    "\n",
    "# plt.text(\n",
    "#     x[-1] + 0.2, \n",
    "#     df_grouped[df_grouped[\"months\"] == 6]['users'].values[0], \n",
    "#     'Total de usuários\\n ativos no mês', fontsize=20, ha='center', color='black'\n",
    "# )\n",
    "\n",
    "# # plt.grid(True, which='both', color='black', linestyle='--', linewidth=0.5)\n",
    "\n",
    "# plt.title(\"Classificação de filmes por gênero por mês e usuários totais\", fontsize=24)\n",
    "\n",
    "# # Exibindo o gráfico\n",
    "# plt.tight_layout()  # Ajusta automaticamente o layout para evitar sobreposição de legendas\n",
    "# plt.show()\n",
    "fig.show()\n",
    "\n"
   ]
  },
  {
   "cell_type": "code",
   "execution_count": null,
   "metadata": {},
   "outputs": [
    {
     "data": {
      "image/png": "[encoded data removed]",
      "text/plain": [
       "<Figure size 2500x1500 with 1 Axes>"
      ]
     },
     "metadata": {},
     "output_type": "display_data"
    }
   ],
   "source": [
    "plt.figure(figsize=(25, 15))\n",
    "\n",
    "\n",
    "# Posicionamento das barras\n",
    "x = np.arange(len(df['months'].unique()))  # Garantindo que o eixo X seja numérico único\n",
    "largura = 0.15  # Largura das barras (reduzida para mais barras no gráfico)\n",
    "\n",
    "# Número total de valores únicos de 'stars'\n",
    "num_stars = len(df[\"stars\"].unique())\n",
    "\n",
    "# Encontrando a posição de 'star = 3'\n",
    "index_star_3 = np.where(df[\"stars\"].unique() == 3)[0][0]\n",
    "\n",
    "# Loop para cada valor único de 'stars'\n",
    "total_users_per_month = np.zeros(len(x))\n",
    "\n",
    "descoc_inter = 0\n",
    "handles = []\n",
    "labels = []\n",
    "\n",
    "for i, star in enumerate(df[\"stars\"].unique()):\n",
    "    df_filter = df[df[\"stars\"] == star]  # Filtrando para a estrela atual\n",
    "    bottom = np.zeros(len(x))  # Reinicializando o bottom para cada 'star'\n",
    "\n",
    "    # Ajustando o deslocamento baseado no índice de 'star = 3'\n",
    "    deslocamento = (i - index_star_3) * largura  # Alinha 'star = 3' no centro\n",
    "\n",
    "    for genre in df_filter['genre'].unique():\n",
    "        # Filtrando os usuários por gênero\n",
    "        users = df_filter[df_filter['genre'] == genre].groupby('months')['users'].sum()\n",
    "        \n",
    "        # Garantindo o alinhamento correto do eixo X\n",
    "        genre_x = [list(df_filter['months'].unique()).index(month) for month in users.index]\n",
    "\n",
    "        # Adicionando o deslocamento à posição de cada barra\n",
    "        genre_x_com_deslocamento = [x_val + deslocamento for x_val in genre_x]\n",
    "        # Plotando a barra empilhada para o gênero\n",
    "        bars = plt.bar(genre_x_com_deslocamento, users, bottom=bottom[genre_x], width=largura, label=f'{genre}', color=genre_color[genre], edgecolor='black', linewidth=0.5)\n",
    "        # Atualizando o valor de 'bottom' para o próximo grupo\n",
    "        bottom[genre_x] += users\n",
    "\n",
    "        total_users_per_month[genre_x] += users\n",
    "\n",
    "        # Adicionando o handle e label para o gênero apenas na primeira ocorrência\n",
    "        if i == 0:  # Só adicionar à legenda na primeira estrela\n",
    "            handles.append(bars[0])  # Selecionando a primeira barra (para o gênero)\n",
    "            labels.append(genre)\n",
    "        \n",
    "        if genre == df_filter['genre'].unique()[-1]:\n",
    "\n",
    "            for j, bar in enumerate(bars):\n",
    "\n",
    "                plt.text(\n",
    "                        bar.get_x() + bar.get_width() / 2,  # Posição X (meio da barra)\n",
    "                        bar.get_y() + users.iloc[j],  # Posição Y (no topo da barra)\n",
    "                        f\"{star}★\",  # Texto da anotação\n",
    "                        ha='center',  # Alinha o texto ao centro\n",
    "                        va='bottom',  # Coloca o texto acima da barra\n",
    "                        fontsize=20,  # Tamanho da fonte\n",
    "                        color='black'  # Cor do texto\n",
    "                    )\n",
    "\n",
    "\n",
    "plt.xticks(x, [\"Janeiro\", \"Fevereiro\", \"Março\", \"Abril\", \"Maio\", \"Junho\"], fontsize=20)\n",
    "# plt.xticks(x, df['months'].unique(), fontsize=20)\n",
    "plt.xlabel(\"Mês\", fontsize=20)\n",
    "plt.yticks(fontsize=20)\n",
    "plt.ylabel(\"Usuários\", fontsize=20)\n",
    "\n",
    "# Adicionando legenda\n",
    "plt.legend(handles=handles, labels=labels, title=\"Gêneros\", bbox_to_anchor=(1.05, 1), loc='upper left', fontsize=20, title_fontsize=20)\n",
    "\n",
    "df_grouped = df.groupby(\"months\").sum().reset_index()\n",
    "\n",
    "plt.plot(x, df_grouped['users'], color='red', linestyle='--', label=\"Linha de Tendência\")\n",
    "\n",
    "# print(df_grouped[df_grouped[\"months\"] == \"Junho\"]['users'].values[0])\n",
    "\n",
    "plt.text(\n",
    "    x[-1] + 0.2, \n",
    "    df_grouped[df_grouped[\"months\"] == 6]['users'].values[0], \n",
    "    'Total de usuários\\n ativos no mês', fontsize=20, ha='center', color='black'\n",
    ")\n",
    "\n",
    "# plt.grid(True, which='both', color='black', linestyle='--', linewidth=0.5)\n",
    "\n",
    "plt.title(\"Classificação de filmes por gênero por mês e usuários totais\", fontsize=24)\n",
    "\n",
    "# Exibindo o gráfico\n",
    "plt.tight_layout()  # Ajusta automaticamente o layout para evitar sobreposição de legendas\n",
    "plt.show()\n"
   ]
  },
  {
   "cell_type": "code",
   "execution_count": 7,
   "metadata": {},
   "outputs": [
    {
     "data": {
      "image/png": "[encoded data removed]",
      "text/plain": [
       "<Figure size 2500x1500 with 1 Axes>"
      ]
     },
     "metadata": {},
     "output_type": "display_data"
    }
   ],
   "source": [
    "plt.figure(figsize=(25, 15))\n",
    "\n",
    "# Posicionamento das barras\n",
    "x = np.arange(len(df['months'].unique()))  # Garantindo que o eixo X seja numérico único\n",
    "largura = 0.15  # Largura das barras (reduzida para mais barras no gráfico)\n",
    "\n",
    "# Número total de valores únicos de 'stars'\n",
    "num_stars = len(df[\"stars\"].unique())\n",
    "\n",
    "# Encontrando a posição de 'star = 3'\n",
    "index_star_3 = np.where(df[\"stars\"].unique() == 3)[0][0]\n",
    "\n",
    "# Loop para cada valor único de 'stars'\n",
    "total_users_per_month = np.zeros(len(x))\n",
    "\n",
    "descoc_inter = 0\n",
    "handles = []\n",
    "labels = []\n",
    "\n",
    "for i, star in enumerate(df[\"stars\"].unique()):\n",
    "    df_filter = df[df[\"stars\"] == star]  # Filtrando para a estrela atual\n",
    "    bottom = np.zeros(len(x))  # Reinicializando o bottom para cada 'star'\n",
    "\n",
    "    # Ajustando o deslocamento baseado no índice de 'star = 3'\n",
    "    deslocamento = (i - index_star_3) * largura  # Alinha 'star = 3' no centro\n",
    "\n",
    "    for genre in df_filter['genre'].unique():\n",
    "        # Filtrando os usuários por gênero\n",
    "        users = df_filter[df_filter['genre'] == genre].groupby('months')['users'].sum()\n",
    "        \n",
    "        # Garantindo o alinhamento correto do eixo X\n",
    "        genre_x = [list(df_filter['months'].unique()).index(month) for month in users.index]\n",
    "\n",
    "        # Adicionando o deslocamento à posição de cada barra\n",
    "        genre_x_com_deslocamento = [x_val + deslocamento for x_val in genre_x]\n",
    "        \n",
    "        # Plotando a barra empilhada para o gênero\n",
    "        bars = plt.bar(genre_x_com_deslocamento, users, bottom=bottom[genre_x], width=largura, label=f'{genre}', color=genre_color[genre], edgecolor='black', linewidth=0.5)\n",
    "        \n",
    "        # Atualizando o valor de 'bottom' para o próximo grupo\n",
    "        bottom[genre_x] += users\n",
    "\n",
    "        total_users_per_month[genre_x] += users\n",
    "\n",
    "        # Adicionando o handle e label para o gênero apenas na primeira ocorrência\n",
    "        if i == 0:  # Só adicionar à legenda na primeira estrela\n",
    "            handles.append(bars[0])  # Selecionando a primeira barra (para o gênero)\n",
    "            labels.append(genre)\n",
    "\n",
    "\n",
    "plt.xticks(x, df['months'].unique())\n",
    "\n",
    "# Adicionando legenda\n",
    "plt.legend(handles=handles, labels=labels, title=\"Gêneros\", bbox_to_anchor=(1.05, 1), loc='upper left')\n",
    "\n",
    "df_grouped = df.groupby(\"months\").sum().reset_index()\n",
    "\n",
    "plt.plot(x, df_grouped['users'], color='red', linestyle='--', label=\"Linha de Tendência\")\n",
    "\n",
    "# Exibindo o gráfico\n",
    "plt.tight_layout()  # Ajusta automaticamente o layout para evitar sobreposição de legendas\n",
    "plt.show()\n"
   ]
  },
  {
   "cell_type": "code",
   "execution_count": 8,
   "metadata": {},
   "outputs": [
    {
     "data": {
      "image/png": "[encoded data removed]",
      "text/plain": [
       "<Figure size 2500x1500 with 1 Axes>"
      ]
     },
     "metadata": {},
     "output_type": "display_data"
    }
   ],
   "source": [
    "plt.figure(figsize=(25, 15))\n",
    "\n",
    "# Posicionamento das barras\n",
    "x = np.arange(len(df['months'].unique()))  # Garantindo que o eixo X seja numérico único\n",
    "largura = 0.15 # Largura das barras (reduzida para mais barras no gráfico)\n",
    "\n",
    "# Número total de valores únicos de 'stars'\n",
    "num_stars = len(df[\"stars\"].unique())\n",
    "\n",
    "# Loop para cada valor único de 'stars'\n",
    "\n",
    "total_users_per_month = np.zeros(len(x))\n",
    "\n",
    "descoc_inter = 0\n",
    "handles = []\n",
    "labels = []\n",
    "\n",
    "for i, star in enumerate(df[\"stars\"].unique()):\n",
    "    df_filter = df[df[\"stars\"] == star]  # Filtrando para a estrela atual\n",
    "    bottom = np.zeros(len(x))  # Reinicializando o bottom para cada 'star'\n",
    "\n",
    "    # Cálculo do deslocamento para agrupar as barras de 'stars' com espaçamento adequado\n",
    "    # deslocamento = (largura * 1.5) * (i - (num_stars - 1) / 2)  + descoc_inter # Garantindo separação entre os 'stars'\n",
    "    # deslocamento = (largura + 0.05) * (i - (num_stars - 1) / 2)\n",
    "    deslocamento = i * largura + descoc_inter\n",
    "\n",
    "    for genre in df_filter['genre'].unique():\n",
    "        # Filtrando os usuários por gênero\n",
    "        users = df_filter[df_filter['genre'] == genre].groupby('months')['users'].sum()\n",
    "        \n",
    "        # Garantindo o alinhamento correto do eixo X\n",
    "        genre_x = [list(df_filter['months'].unique()).index(month) for month in users.index]\n",
    "\n",
    "        # Adicionando o deslocamento à posição de cada barra\n",
    "        genre_x_com_deslocamento = [x_val + deslocamento for x_val in genre_x]\n",
    "        # Plotando a barra empilhada para o gênero\n",
    "        bars = plt.bar(genre_x_com_deslocamento , users, bottom=bottom[genre_x], width=largura, label=f'{genre}', color=genre_color[genre], edgecolor='black', linewidth=0.5)\n",
    "        \n",
    "        # Atualizando o valor de 'bottom' para o próximo grupo\n",
    "        bottom[genre_x] += users\n",
    "\n",
    "        total_users_per_month[genre_x] += users\n",
    "\n",
    "         # Adicionando o handle e label para o gênero apenas na primeira ocorrência\n",
    "        if i == 0:  # Só adicionar à legenda na primeira estrela\n",
    "            handles.append(bars[0])  # Selecionando a primeira barra (para o gênero)\n",
    "            labels.append(genre)\n",
    "\n",
    "    # descoc_inter += 1\n",
    "plt.xticks(x, df['months'].unique())\n",
    "\n",
    "# Adicionando legenda\n",
    "plt.legend(handles=handles, labels=labels, title=\"Gêneros\", bbox_to_anchor=(1.05, 1), loc='upper left')\n",
    "\n",
    "\n",
    "df_grouped = df.groupby(\"months\").sum().reset_index()\n",
    "\n",
    "\n",
    "plt.plot(x, df_grouped['users'], color='red', linestyle='--', label=\"Linha de Tendência\")\n",
    "\n",
    "# Exibindo o gráfico\n",
    "plt.tight_layout()  # Ajusta automaticamente o layout para evitar sobreposição de legendas\n",
    "plt.show()"
   ]
  },
  {
   "cell_type": "code",
   "execution_count": 9,
   "metadata": {},
   "outputs": [
    {
     "data": {
      "image/png": "[encoded data removed]",
      "text/plain": [
       "<Figure size 2000x1500 with 1 Axes>"
      ]
     },
     "metadata": {},
     "output_type": "display_data"
    }
   ],
   "source": [
    "import matplotlib.pyplot as plt\n",
    "import numpy as np\n",
    "\n",
    "plt.figure(figsize=(20, 15))\n",
    "\n",
    "# Filtrando o DataFrame para estrelas = 1\n",
    "df_filter = df[df[\"stars\"] == 1]\n",
    "\n",
    "# Posicionamento das barras\n",
    "x = np.arange(len(df_filter['months'].unique()))  # Garantindo que o eixo X seja numérico único\n",
    "\n",
    "# Inicializando a variável para o valor base (primeiro grupo)\n",
    "bottom = np.zeros(len(x))\n",
    "\n",
    "# Criando as barras empilhadas\n",
    "for genre in df_filter['genre'].unique():  \n",
    "    # Filtrando os usuários por gênero\n",
    "    users = df_filter[df_filter['genre'] == genre].groupby('months')['users'].sum()\n",
    "    \n",
    "    # Garantindo o alinhamento correto do eixo X\n",
    "    genre_x = [list(df_filter['months'].unique()).index(month) for month in users.index]\n",
    "\n",
    "    # Plotando a barra empilhada para o gênero\n",
    "    plt.bar(genre_x, users, bottom=bottom[genre_x], label=genre)\n",
    "    \n",
    "    # Atualizando o valor de 'bottom' para o próximo grupo\n",
    "    bottom[genre_x] += users\n",
    "\n",
    "# Adicionando título e labels\n",
    "plt.xlabel('Meses')\n",
    "plt.ylabel('Número de Usuários')\n",
    "plt.title('Gráfico de Barras Empilhadas - Gênero e Estrelas = 1')\n",
    "plt.xticks(x, df_filter['months'].unique())  # Colocando os meses como labels do eixo X\n",
    "\n",
    "# Adicionando legenda\n",
    "plt.legend()\n",
    "\n",
    "# Exibindo o gráfico\n",
    "plt.show()\n"
   ]
  },
  {
   "cell_type": "code",
   "execution_count": null,
   "metadata": {},
   "outputs": [],
   "source": []
  }
 ],
 "metadata": {
  "kernelspec": {
   "display_name": "venv",
   "language": "python",
   "name": "python3"
  },
  "language_info": {
   "codemirror_mode": {
    "name": "ipython",
    "version": 3
   },
   "file_extension": ".py",
   "mimetype": "text/x-python",
   "name": "python",
   "nbconvert_exporter": "python",
   "pygments_lexer": "ipython3",
   "version": "3.12.1"
  }
 },
 "nbformat": 4,
 "nbformat_minor": 2
}
